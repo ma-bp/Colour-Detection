{
 "cells": [
  {
   "cell_type": "markdown",
   "id": "9fd32156",
   "metadata": {},
   "source": [
    "# Import Libraries"
   ]
  },
  {
   "cell_type": "code",
   "execution_count": 1,
   "id": "243fa8b8",
   "metadata": {},
   "outputs": [
    {
     "name": "stdout",
     "output_type": "stream",
     "text": [
      "Requirement already satisfied: webcolors in c:\\users\\user\\anaconda3\\lib\\site-packages (1.13)\n"
     ]
    },
    {
     "name": "stderr",
     "output_type": "stream",
     "text": [
      "WARNING: Ignoring invalid distribution -pencv-contrib-python (c:\\users\\user\\anaconda3\\lib\\site-packages)\n",
      "WARNING: Ignoring invalid distribution -pencv-contrib-python (c:\\users\\user\\anaconda3\\lib\\site-packages)\n",
      "WARNING: Ignoring invalid distribution -pencv-contrib-python (c:\\users\\user\\anaconda3\\lib\\site-packages)\n",
      "WARNING: Ignoring invalid distribution -pencv-contrib-python (c:\\users\\user\\anaconda3\\lib\\site-packages)\n",
      "WARNING: Ignoring invalid distribution -pencv-contrib-python (c:\\users\\user\\anaconda3\\lib\\site-packages)\n",
      "WARNING: Ignoring invalid distribution -pencv-contrib-python (c:\\users\\user\\anaconda3\\lib\\site-packages)\n"
     ]
    }
   ],
   "source": [
    "import cv2\n",
    "import numpy as np\n",
    "from collections import deque\n",
    "import random\n",
    "!pip install webcolors\n",
    "import webcolors\n",
    "import matplotlib.pyplot as plt\n",
    "import time\n",
    "import heapq"
   ]
  },
  {
   "cell_type": "code",
   "execution_count": 2,
   "id": "23e99599",
   "metadata": {},
   "outputs": [],
   "source": [
    "# Function to convert a hexadecimal color code to its corresponding color name\n",
    "def hex_to_color_name(hex_code):\n",
    "    try:\n",
    "        color_name = webcolors.hex_to_name(hex_code)\n",
    "        return color_name\n",
    "    except ValueError:\n",
    "        # If the hexadecimal code is not found in the color database, return \"Unknown\"\n",
    "        return \"Unknown\""
   ]
  },
  {
   "cell_type": "markdown",
   "id": "94d0102a",
   "metadata": {},
   "source": [
    "# DFS Algorithm"
   ]
  },
  {
   "cell_type": "code",
   "execution_count": 3,
   "id": "3cc9665f",
   "metadata": {},
   "outputs": [],
   "source": [
    "# Color detection using DFS\n",
    "def color_detection_dfs(image, target_color, tolerance=50):\n",
    "    height, width, _ = image.shape\n",
    "    target_color = np.array(target_color)\n",
    "\n",
    "    # Create a stack for DFS\n",
    "    stack = []\n",
    "\n",
    "    # Initialize a mask to keep track of visited pixels\n",
    "    visited = np.zeros((height, width), dtype=bool)\n",
    "\n",
    "    # Find the starting pixel for DFS (closest to target_color)\n",
    "    min_distance = float('inf')\n",
    "    start_pixel = None\n",
    "\n",
    "    for y in range(height):\n",
    "        for x in range(width):\n",
    "            current_color = np.array(image[y, x])\n",
    "            distance = np.linalg.norm(current_color - target_color)\n",
    "\n",
    "            if distance < min_distance:\n",
    "                min_distance = distance\n",
    "                start_pixel = (y, x)\n",
    "\n",
    "    if start_pixel is None:\n",
    "        return image\n",
    "\n",
    "    # Define 4-connected neighbors\n",
    "    neighbors = [(0, 1), (0, -1), (1, 0), (-1, 0)]\n",
    "\n",
    "    # Perform DFS\n",
    "    stack.append(start_pixel)\n",
    "\n",
    "    while stack:\n",
    "        current_y, current_x = stack.pop()\n",
    "        current_color = np.array(image[current_y, current_x])\n",
    "\n",
    "        # Check if the current pixel is within the tolerance range\n",
    "        if np.linalg.norm(current_color - target_color) <= tolerance:\n",
    "            image[current_y, current_x] = [random.randint(0, 255), random.randint(0, 255), random.randint(0, 255)]\n",
    "\n",
    "        # Visit neighbors\n",
    "        for dy, dx in neighbors:\n",
    "            y, x = current_y + dy, current_x + dx\n",
    "\n",
    "            if 0 <= y < height and 0 <= x < width and not visited[y, x]:\n",
    "                stack.append((y, x))\n",
    "                visited[y, x] = True\n",
    "\n",
    "    return image\n",
    "\n",
    "def closest_color_DFS(requested_color):\n",
    "    min_colors = {}\n",
    "    requested_color_hex = '#{:02x}{:02x}{:02x}'.format(*requested_color)\n",
    "    for key, name in webcolors.CSS3_NAMES_TO_HEX.items():\n",
    "        r_c, g_c, b_c = webcolors.hex_to_rgb(name)\n",
    "        rd = (r_c - requested_color[0]) ** 2\n",
    "        gd = (g_c - requested_color[1]) ** 2\n",
    "        bd = (b_c - requested_color[2]) ** 2\n",
    "        min_colors[(rd + gd + bd)] = name\n",
    "    return min_colors[min(min_colors.keys())]"
   ]
  },
  {
   "cell_type": "markdown",
   "id": "3167541b",
   "metadata": {},
   "source": [
    "# BFS Algorithm"
   ]
  },
  {
   "cell_type": "code",
   "execution_count": 4,
   "id": "0da259f5",
   "metadata": {},
   "outputs": [],
   "source": [
    "# Color detection using BFS\n",
    "def color_detection_bfs(image, target_color, tolerance=50):\n",
    "    height, width, _ = image.shape\n",
    "    target_color = np.array(target_color)\n",
    "\n",
    "    # Create a queue for BFS\n",
    "    queue = deque()\n",
    "\n",
    "    # Initialize a mask to keep track of visited pixels\n",
    "    visited = np.zeros((height, width), dtype=bool)\n",
    "\n",
    "    # Find the starting pixel for BFS (closest to target_color)\n",
    "    min_distance = float('inf')\n",
    "    start_pixel = None\n",
    "\n",
    "    for y in range(height):\n",
    "        for x in range(width):\n",
    "            current_color = np.array(image[y, x])\n",
    "            distance = np.linalg.norm(current_color - target_color)\n",
    "\n",
    "            if distance < min_distance:\n",
    "                min_distance = distance\n",
    "                start_pixel = (y, x)\n",
    "\n",
    "    if start_pixel is None:\n",
    "        return image\n",
    "\n",
    "    # Define 4-connected neighbors\n",
    "    neighbors = [(0, 1), (0, -1), (1, 0), (-1, 0)]\n",
    "\n",
    "    # Perform BFS\n",
    "    queue.append(start_pixel)\n",
    "    visited[start_pixel[0], start_pixel[1]] = True\n",
    "\n",
    "    while queue:\n",
    "        current_y, current_x = queue.popleft()\n",
    "        current_color = np.array(image[current_y, current_x])\n",
    "\n",
    "        # Check if the current pixel is within the tolerance range\n",
    "        if np.linalg.norm(current_color - target_color) <= tolerance:\n",
    "            image[current_y, current_x] = [random.randint(0, 255), random.randint(0, 255), random.randint(0, 255)]\n",
    "\n",
    "        # Visit neighbors\n",
    "        for dy, dx in neighbors:\n",
    "            y, x = current_y + dy, current_x + dx\n",
    "\n",
    "            if 0 <= y < height and 0 <= x < width and not visited[y, x]:\n",
    "                queue.append((y, x))\n",
    "                visited[y, x] = True\n",
    "\n",
    "    return image\n",
    "\n",
    "def closest_color_BFS(requested_color):\n",
    "    min_colors = {}\n",
    "    requested_color_hex = '#{:02x}{:02x}{:02x}'.format(*requested_color)\n",
    "    for key, name in webcolors.CSS3_NAMES_TO_HEX.items():\n",
    "        r_c, g_c, b_c = webcolors.hex_to_rgb(name)\n",
    "        rd = (r_c - requested_color[0]) ** 2\n",
    "        gd = (g_c - requested_color[1]) ** 2\n",
    "        bd = (b_c - requested_color[2]) ** 2\n",
    "        min_colors[(rd + gd + bd)] = name\n",
    "    return min_colors[min(min_colors.keys())]"
   ]
  },
  {
   "cell_type": "markdown",
   "id": "836e46ce",
   "metadata": {},
   "source": [
    "# A* Algorithm"
   ]
  },
  {
   "cell_type": "code",
   "execution_count": 5,
   "id": "9a37155c",
   "metadata": {},
   "outputs": [],
   "source": [
    "# Heuristic function (Manhattan distance in RGB space)\n",
    "def heuristic(a, b):\n",
    "    return np.sum(np.abs(a - b))\n",
    "\n",
    "# A* algorithm\n",
    "def astar_search(image, start, goal):\n",
    "    height, width = image.shape\n",
    "    open_list = []\n",
    "    closed_list = set()\n",
    "\n",
    "    heapq.heappush(open_list, (0, start))\n",
    "    while open_list:\n",
    "        current_cost, current_node = heapq.heappop(open_list)\n",
    "\n",
    "        if current_node == goal:\n",
    "            return current_cost, goal\n",
    "\n",
    "        closed_list.add(current_node)\n",
    "\n",
    "        neighbors = [\n",
    "            (current_node[0] + 1, current_node[1]),\n",
    "            (current_node[0] - 1, current_node[1]),\n",
    "            (current_node[0], current_node[1] + 1),\n",
    "            (current_node[0], current_node[1] - 1)\n",
    "        ]\n",
    "\n",
    "        for neighbor in neighbors:\n",
    "            y, x = neighbor\n",
    "            if 0 <= y < height and 0 <= x < width and neighbor not in closed_list:\n",
    "                neighbor_cost = heuristic(image[y, x], image[goal])\n",
    "                heapq.heappush(open_list, (current_cost + neighbor_cost, neighbor))\n",
    "\n",
    "    return None\n",
    "\n",
    "\n",
    "# Color detection using A*\n",
    "def color_detection_astar(image, target_color, tolerance=50):\n",
    "    height, width = image.shape\n",
    "    target_color = np.array(target_color)\n",
    "\n",
    "    # Convert the image to a 2D grid representation\n",
    "    grid = np.zeros((height, width), dtype=object)\n",
    "    for y in range(height):\n",
    "        for x in range(width):\n",
    "            grid[y, x] = tuple(image[y, x])\n",
    "\n",
    "    # Initialize a dictionary to store color regions\n",
    "    regions = {}\n",
    "\n",
    "    # Detect color regions using A* search\n",
    "    while True:\n",
    "        # Find the pixel with the closest color to the target_color\n",
    "        min_distance = float('inf')\n",
    "        best_pixel = None\n",
    "\n",
    "        for y in range(height):\n",
    "            for x in range(width):\n",
    "                current_color = np.array(grid[y, x])\n",
    "                distance = heuristic(current_color, target_color)\n",
    "\n",
    "                if distance < min_distance:\n",
    "                    min_distance = distance\n",
    "                    best_pixel = (y, x)\n",
    "\n",
    "        # If no more color regions are found, exit the loop\n",
    "        if min_distance > tolerance:\n",
    "            break\n",
    "\n",
    "        # Perform A* search to find a path with similar colors\n",
    "        if best_pixel:\n",
    "            goal_pixel = astar_search(grid, best_pixel, best_pixel)\n",
    "            if goal_pixel:\n",
    "                # Mark the detected color region with a unique color\n",
    "                region_color = [random.randint(0, 255), random.randint(0, 255), random.randint(0, 255)]\n",
    "                regions[region_color] = [(best_pixel[0], best_pixel[1])]\n",
    "                if goal_pixel != best_pixel:\n",
    "                    y, x = goal_pixel\n",
    "                    regions[region_color].append((y, x))\n",
    "                    grid[y, x] = tuple(region_color)\n",
    "\n",
    "    # Mark the detected color regions in the original image\n",
    "    for color, region in regions.items():\n",
    "        for y, x in region:\n",
    "            image[y, x] = color\n",
    "\n",
    "    return image\n",
    "\n",
    "def closest_color_Astar(requested_color):\n",
    "    min_colors = {}\n",
    "    requested_color_hex = '#{:02x}{:02x}{:02x}'.format(*requested_color)\n",
    "    for key, name in webcolors.CSS3_NAMES_TO_HEX.items():\n",
    "        r_c, g_c, b_c = webcolors.hex_to_rgb(name)\n",
    "        rd = (r_c - requested_color[0]) ** 2\n",
    "        gd = (g_c - requested_color[1]) ** 2\n",
    "        bd = (b_c - requested_color[2]) ** 2\n",
    "        min_colors[(rd + gd + bd)] = name\n",
    "    return min_colors[min(min_colors.keys())]"
   ]
  },
  {
   "cell_type": "markdown",
   "id": "ba8bd5ff",
   "metadata": {},
   "source": [
    "# Colour Detection of RGB Values"
   ]
  },
  {
   "cell_type": "code",
   "execution_count": 6,
   "id": "c92ac251",
   "metadata": {},
   "outputs": [],
   "source": [
    "# Function to get RGB values of detected color regions\n",
    "def get_detected_colors_DFS(image, target_color, detection_func):\n",
    "    result_image = closest_color_DFS(image.copy(), target_color)\n",
    "    height, width, _ = image.shape\n",
    "    colors = []\n",
    "    for y in range(height):\n",
    "        for x in range(width):\n",
    "            color = result_image[y, x]\n",
    "            colors.append(color)\n",
    "    return colors\n",
    "\n",
    "# Function to get RGB values of detected color regions\n",
    "def get_detected_colors_BFS(image, target_color, detection_func):\n",
    "    result_image =  closest_color_BFS(image.copy(), target_color)\n",
    "    height, width, _ = image.shape\n",
    "    colors = []\n",
    "    for y in range(height):\n",
    "        for x in range(width):\n",
    "            color = result_image[y, x]\n",
    "            colors.append(color)\n",
    "    return colors\n",
    "\n",
    "# Function to get RGB values of detected color regions\n",
    "def get_detected_colors_Astar(image, target_color, detection_func):\n",
    "    result_image = closest_color_Astar(image.copy(), target_color)\n",
    "    height, width, _ = image.shape\n",
    "    colors = []\n",
    "    for y in range(height):\n",
    "        for x in range(width):\n",
    "            color = result_image[y, x]\n",
    "            colors.append(color)\n",
    "    return colors"
   ]
  },
  {
   "cell_type": "markdown",
   "id": "b8bd84cd",
   "metadata": {},
   "source": [
    "# Colour Selection"
   ]
  },
  {
   "cell_type": "code",
   "execution_count": 7,
   "id": "7e278ac9",
   "metadata": {},
   "outputs": [],
   "source": [
    "# Load the image\n",
    "image_path = \"Chair Car Edward Hopper.jpg\"\n",
    "image = cv2.imread(image_path)"
   ]
  },
  {
   "cell_type": "code",
   "execution_count": 8,
   "id": "f28e6e37",
   "metadata": {},
   "outputs": [],
   "source": [
    "# Display the image for color selection\n",
    "selected_color = None\n",
    "\n",
    "def on_mouse_click(event, x, y, flags, param):\n",
    "    global selected_color\n",
    "    if event == cv2.EVENT_LBUTTONDOWN:\n",
    "        selected_color = image[y, x]"
   ]
  },
  {
   "cell_type": "code",
   "execution_count": 9,
   "id": "bdf4cc6e",
   "metadata": {},
   "outputs": [],
   "source": [
    "# Create a window to display the image\n",
    "cv2.namedWindow(\"Select Color\")\n",
    "cv2.setMouseCallback(\"Select Color\", on_mouse_click)"
   ]
  },
  {
   "cell_type": "markdown",
   "id": "38c0010e",
   "metadata": {},
   "source": [
    "# RGB Values"
   ]
  },
  {
   "cell_type": "code",
   "execution_count": 10,
   "id": "cf052a8e",
   "metadata": {},
   "outputs": [
    {
     "name": "stdout",
     "output_type": "stream",
     "text": [
      "\n",
      "\n",
      "Selected color (RGB): [ 88 158 121]\n",
      "\n",
      "\n"
     ]
    }
   ],
   "source": [
    "# Show the image and wait for the user to click\n",
    "while True:\n",
    "    cv2.imshow(\"Select Color\", image)\n",
    "    key = cv2.waitKey(1) & 0xFF\n",
    "\n",
    "    if key == ord('q') or selected_color is not None:\n",
    "        break\n",
    "\n",
    "cv2.destroyWindow(\"Select Color\")\n",
    "\n",
    "print(\"\\n\")\n",
    "\n",
    "if selected_color is None:\n",
    "    print(\"No color selected.\")\n",
    "else:\n",
    "    print(\"Selected color (RGB):\", selected_color)\n",
    "\n",
    "print(\"\\n\")"
   ]
  },
  {
   "cell_type": "code",
   "execution_count": 11,
   "id": "361483c3",
   "metadata": {},
   "outputs": [],
   "source": [
    "# Get the detected colors using each algorithm\n",
    "dfs_detected_colors = (image, selected_color, get_detected_colors_DFS)\n",
    "bfs_detected_colors = (image, selected_color, get_detected_colors_BFS)\n",
    "astar_detected_colors = (image, selected_color, get_detected_colors_Astar)"
   ]
  },
  {
   "cell_type": "code",
   "execution_count": 12,
   "id": "95eb73e7",
   "metadata": {},
   "outputs": [
    {
     "name": "stderr",
     "output_type": "stream",
     "text": [
      "C:\\Users\\User\\AppData\\Local\\Temp\\ipykernel_20508\\4254712673.py:2: VisibleDeprecationWarning: Creating an ndarray from ragged nested sequences (which is a list-or-tuple of lists-or-tuples-or ndarrays with different lengths or shapes) is deprecated. If you meant to do this, you must specify 'dtype=object' when creating the ndarray.\n",
      "  dfs_detected_colors = np.array(dfs_detected_colors)\n",
      "C:\\Users\\User\\AppData\\Local\\Temp\\ipykernel_20508\\4254712673.py:3: VisibleDeprecationWarning: Creating an ndarray from ragged nested sequences (which is a list-or-tuple of lists-or-tuples-or ndarrays with different lengths or shapes) is deprecated. If you meant to do this, you must specify 'dtype=object' when creating the ndarray.\n",
      "  bfs_detected_colors = np.array(bfs_detected_colors)\n",
      "C:\\Users\\User\\AppData\\Local\\Temp\\ipykernel_20508\\4254712673.py:4: VisibleDeprecationWarning: Creating an ndarray from ragged nested sequences (which is a list-or-tuple of lists-or-tuples-or ndarrays with different lengths or shapes) is deprecated. If you meant to do this, you must specify 'dtype=object' when creating the ndarray.\n",
      "  astar_detected_colors = np.array(astar_detected_colors)\n"
     ]
    }
   ],
   "source": [
    "# Convert the RGB values to NumPy arrays for each color channel\n",
    "dfs_detected_colors = np.array(dfs_detected_colors)\n",
    "bfs_detected_colors = np.array(bfs_detected_colors)\n",
    "astar_detected_colors = np.array(astar_detected_colors)"
   ]
  },
  {
   "cell_type": "code",
   "execution_count": 13,
   "id": "87646e4f",
   "metadata": {},
   "outputs": [],
   "source": [
    "# Make sure the detected colors have the correct shape (Nx3, where N is the number of pixels)\n",
    "dfs_detected_colors = dfs_detected_colors.reshape(-1, 3)\n",
    "bfs_detected_colors = bfs_detected_colors.reshape(-1, 3)\n",
    "astar_detected_colors = astar_detected_colors.reshape(-1, 3)"
   ]
  },
  {
   "cell_type": "code",
   "execution_count": 14,
   "id": "11cc8535",
   "metadata": {},
   "outputs": [],
   "source": [
    "# Count the occurrences of each RGB value for each color channel\n",
    "dfs_red_values, dfs_red_counts = np.unique(dfs_detected_colors[:, 0], return_counts=True)\n",
    "dfs_green_values, dfs_green_counts = np.unique(dfs_detected_colors[:, 1], return_counts=True)\n",
    "dfs_blue_values, dfs_blue_counts = np.unique(dfs_detected_colors[:, 2], return_counts=True)\n",
    "\n",
    "bfs_red_values, bfs_red_counts = np.unique(bfs_detected_colors[:, 0], return_counts=True)\n",
    "bfs_green_values, bfs_green_counts = np.unique(bfs_detected_colors[:, 1], return_counts=True)\n",
    "bfs_blue_values, bfs_blue_counts = np.unique(bfs_detected_colors[:, 2], return_counts=True)\n",
    "\n",
    "astar_red_values, astar_red_counts = np.unique(astar_detected_colors[:, 0], return_counts=True)\n",
    "astar_green_values, astar_green_counts = np.unique(astar_detected_colors[:, 1], return_counts=True)\n",
    "astar_blue_values, astar_blue_counts = np.unique(astar_detected_colors[:, 2], return_counts=True)"
   ]
  },
  {
   "cell_type": "code",
   "execution_count": 15,
   "id": "163a9bb8",
   "metadata": {},
   "outputs": [],
   "source": [
    "# Plot the RGB values of the detected colors using bar plots\n",
    "def plot_rgb_bar(values, counts, title):\n",
    "    colors = ['#ff0000', '#00ff00', '#0000ff']\n",
    "    counts = list(selected_color)\n",
    "    color_names = ['Red', 'Green', 'Blue']\n",
    "    plt.bar(color_names, counts, color=colors)\n",
    "    plt.xlabel('Color Channels')\n",
    "    plt.ylabel('Counts')"
   ]
  },
  {
   "cell_type": "code",
   "execution_count": 16,
   "id": "b07d827a",
   "metadata": {},
   "outputs": [
    {
     "data": {
      "image/png": "[encoded data removed]",
      "text/plain": [
       "<Figure size 1500x800 with 3 Axes>"
      ]
     },
     "metadata": {},
     "output_type": "display_data"
    }
   ],
   "source": [
    "# Set the figure size\n",
    "plt.figure(figsize=(15, 8))\n",
    "\n",
    "plt.subplot(1, 3, 1)  # DFS bar plot\n",
    "plot_rgb_bar(dfs_red_values, dfs_red_counts, 'DFS Channel')\n",
    "plt.title('Color Counts (DFS)')\n",
    "\n",
    "plt.subplot(1, 3, 2)  # BFS bar plot\n",
    "plot_rgb_bar(bfs_red_values, bfs_red_counts, 'BFS Channel')\n",
    "plt.title('Color Counts (BFS)')\n",
    "\n",
    "plt.subplot(1, 3, 3)  # Astar bar plot\n",
    "plot_rgb_bar(bfs_red_values, bfs_red_counts, 'Astar Channel')\n",
    "plt.title('Color Counts (A*)')\n",
    "\n",
    "plt.tight_layout()\n",
    "plt.show()"
   ]
  },
  {
   "cell_type": "markdown",
   "id": "96ff0cac",
   "metadata": {},
   "source": [
    "# RGB Values Conversion to Hexadecimal Code"
   ]
  },
  {
   "cell_type": "code",
   "execution_count": 17,
   "id": "d728e575",
   "metadata": {},
   "outputs": [
    {
     "name": "stdout",
     "output_type": "stream",
     "text": [
      "\n",
      "\n",
      "Selected color in hexadecimal code (DFS): #3cb371\n",
      "\n",
      "\n",
      "Selected color in hexadecimal code (BFS): #3cb371\n",
      "\n",
      "\n",
      "Selected color in hexadecimal code (A*): #3cb371\n",
      "\n",
      "\n"
     ]
    }
   ],
   "source": [
    "# Define the target color for detection (in RGB)\n",
    "target_color = selected_color\n",
    "\n",
    "# Convert selected_color from NumPy array to tuple\n",
    "selected_color_tuple = tuple(selected_color)\n",
    "\n",
    "# Convert selected_color to a string hexadecimal code\n",
    "selected_color_hex = webcolors.rgb_to_hex(selected_color_tuple)\n",
    "\n",
    "# Get the name of the selected color\n",
    "color_name = hex_to_color_name(selected_color_hex)\n",
    "\n",
    "# Get the name of the selected color\n",
    "color_name_DFS = closest_color_DFS(selected_color_tuple)\n",
    "color_name_BFS = closest_color_BFS(selected_color_tuple)\n",
    "color_name_Astar = closest_color_Astar(selected_color_tuple)\n",
    "\n",
    "color_name = color_name_DFS; (\"DFS\"), color_name_BFS; (\"BFS\"), color_name_Astar; (\"Astar\")\n",
    "\n",
    "print(\"\\n\")\n",
    "\n",
    "print(f\"Selected color in hexadecimal code (DFS): {color_name_DFS}\")\n",
    "print(\"\\n\")\n",
    "\n",
    "print(f\"Selected color in hexadecimal code (BFS): {color_name_BFS}\")\n",
    "print(\"\\n\")\n",
    "\n",
    "print(f\"Selected color in hexadecimal code (A*): {color_name_Astar}\")\n",
    "print(\"\\n\")\n",
    "\n",
    "\n",
    "# Display the original image with detected color regions using DFS\n",
    "cv2.waitKey(0)\n",
    "cv2.destroyAllWindows()"
   ]
  },
  {
   "cell_type": "markdown",
   "id": "ac3abc32",
   "metadata": {},
   "source": [
    "# Identification of Hexadecimal Code to match Webcolors Database"
   ]
  },
  {
   "cell_type": "code",
   "execution_count": 18,
   "id": "f0b8f2cb",
   "metadata": {},
   "outputs": [
    {
     "name": "stdout",
     "output_type": "stream",
     "text": [
      "\n",
      "\n",
      "The color with hexadecimal code #3cb371 is: Unknown\n",
      "\n",
      "\n"
     ]
    }
   ],
   "source": [
    "# Function to convert a hexadecimal color code to its corresponding color name\n",
    "def hex_to_color_name(hex_code):\n",
    "    try:\n",
    "        color_name = webcolors.hex_to_name(hex_code)\n",
    "        return color_name\n",
    "    except ValueError:\n",
    "        # If the hexadecimal code is not found in the color database, return \"Unknown\"\n",
    "        return \"Unknown\"\n",
    "    \n",
    "    \n",
    "color_name_DFS = closest_color_DFS(selected_color_tuple)\n",
    "color_name_BFS = closest_color_BFS(selected_color_tuple)\n",
    "color_name_Astar = closest_color_Astar(selected_color_tuple)\n",
    "\n",
    "color_name = color_name_DFS; (\"DFS\"), color_name_BFS; (\"BFS\"), color_name_Astar; (\"Astar\")\n",
    "\n",
    "# Random selected hexadecimal color code\n",
    "color_hex = color_name.format(*selected_color_tuple)\n",
    "\n",
    "# Get the name of the color\n",
    "color_name = hex_to_color_name(selected_color_hex)\n",
    "\n",
    "print(\"\\n\")\n",
    "\n",
    "print(f\"The color with hexadecimal code {color_hex} is: {color_name}\")\n",
    "\n",
    "print(\"\\n\")"
   ]
  },
  {
   "cell_type": "markdown",
   "id": "9263bf18",
   "metadata": {},
   "source": [
    "# Execution Time of Selected Algorithms"
   ]
  },
  {
   "cell_type": "code",
   "execution_count": 19,
   "id": "e0634070",
   "metadata": {},
   "outputs": [],
   "source": [
    "# Function to get the execution time of an algorithm\n",
    "def get_execution_time(func, *args):\n",
    "    start_time = time.time()\n",
    "    func(*args)\n",
    "    end_time = time.time()\n",
    "    return end_time - start_time\n",
    "\n",
    "# Get the execution time for each algorithm\n",
    "dfs_time = get_execution_time(color_detection_dfs, image.copy(), selected_color)\n",
    "bfs_time = get_execution_time(color_detection_bfs, image.copy(), selected_color)\n",
    "astar_time = get_execution_time(heuristic, image.copy(), selected_color)\n"
   ]
  },
  {
   "cell_type": "code",
   "execution_count": 20,
   "id": "fe26603f",
   "metadata": {},
   "outputs": [
    {
     "name": "stdout",
     "output_type": "stream",
     "text": [
      "DFS Time: 4.7069008350372314\n",
      "BFS Time: 5.160897493362427\n",
      "A* Time: 0.0059816837310791016\n"
     ]
    }
   ],
   "source": [
    "print(\"\\n\")\n",
    "\n",
    "print(\"DFS Time:\", dfs_time)\n",
    "print(\"BFS Time:\", bfs_time)\n",
    "print(\"A* Time:\", astar_time)\n",
    "\n",
    "print(\"\\n\")"
   ]
  },
  {
   "cell_type": "code",
   "execution_count": 21,
   "id": "57acaeff",
   "metadata": {},
   "outputs": [
    {
     "data": {
      "image/png": "[encoded data removed]",
      "text/plain": [
       "<Figure size 800x600 with 1 Axes>"
      ]
     },
     "metadata": {},
     "output_type": "display_data"
    }
   ],
   "source": [
    "# Plot the execution times in a line graph\n",
    "algorithms = ['DFS', 'BFS', 'A*']\n",
    "execution_times = [dfs_time, bfs_time, astar_time]\n",
    "\n",
    "plt.figure(figsize=(8, 6))\n",
    "\n",
    "plt.plot(algorithms, execution_times, marker='o', linestyle='-', color='r')\n",
    "\n",
    "plt.xlabel('Algorithm')\n",
    "plt.ylabel('Execution Time (seconds)')\n",
    "plt.title('Execution Time of Color Detection Algorithms')\n",
    "plt.grid(True)\n",
    "plt.show()"
   ]
  },
  {
   "cell_type": "markdown",
   "id": "321afc1e",
   "metadata": {},
   "source": [
    "# Path Length Analysis"
   ]
  },
  {
   "cell_type": "markdown",
   "id": "e1d075be",
   "metadata": {},
   "source": [
    "## DFS"
   ]
  },
  {
   "cell_type": "code",
   "execution_count": 22,
   "id": "eb148436",
   "metadata": {},
   "outputs": [],
   "source": [
    "# Color detection using DFS with path length analysis\n",
    "def color_detection_dfs(image, target_color, tolerance=50):\n",
    "    height, width, _ = image.shape\n",
    "    target_color = np.array(target_color)\n",
    "\n",
    "    # Create a stack for DFS\n",
    "    stack = []\n",
    "\n",
    "    # Initialize a mask to keep track of visited pixels\n",
    "    visited = np.zeros((height, width), dtype=bool)\n",
    "\n",
    "    # Find the starting pixel for DFS (closest to target_color)\n",
    "    min_distance = float('inf')\n",
    "    start_pixel = None\n",
    "\n",
    "    for y in range(height):\n",
    "        for x in range(width):\n",
    "            current_color = np.array(image[y, x])\n",
    "            distance = np.linalg.norm(current_color - target_color)\n",
    "\n",
    "            if distance < min_distance:\n",
    "                min_distance = distance\n",
    "                start_pixel = (y, x)\n",
    "\n",
    "    if start_pixel is None:\n",
    "        return image, 0\n",
    "\n",
    "    # Define 4-connected neighbors\n",
    "    neighbors = [(0, 1), (0, -1), (1, 0), (-1, 0)]\n",
    "\n",
    "    # Perform DFS\n",
    "    stack.append(start_pixel)\n",
    "    visited[start_pixel[0], start_pixel[1]] = True\n",
    "    visited_count = 1  # Initialize the visited pixel count\n",
    "\n",
    "    while stack:\n",
    "        current_y, current_x = stack.pop()\n",
    "        current_color = np.array(image[current_y, current_x])\n",
    "\n",
    "        # Check if the current pixel is within the tolerance range\n",
    "        if np.linalg.norm(current_color - target_color) <= tolerance:\n",
    "            image[current_y, current_x] = [random.randint(0, 255), random.randint(0, 255), random.randint(0, 255)]\n",
    "\n",
    "        # Visit neighbors\n",
    "        for dy, dx in neighbors:\n",
    "            y, x = current_y + dy, current_x + dx\n",
    "\n",
    "            if 0 <= y < height and 0 <= x < width and not visited[y, x]:\n",
    "                stack.append((y, x))\n",
    "                visited[y, x] = True\n",
    "                visited_count += 1  # Increment the visited pixel count\n",
    "\n",
    "    return image, visited_count"
   ]
  },
  {
   "cell_type": "markdown",
   "id": "f0bc7f64",
   "metadata": {},
   "source": [
    "## BFS"
   ]
  },
  {
   "cell_type": "code",
   "execution_count": 23,
   "id": "d6050217",
   "metadata": {},
   "outputs": [],
   "source": [
    "# Color detection using BFS with path length analysis\n",
    "def color_detection_bfs(image, target_color, tolerance=50):\n",
    "    height, width, _ = image.shape\n",
    "    target_color = np.array(target_color)\n",
    "\n",
    "    # Create a queue for BFS\n",
    "    queue = deque()\n",
    "\n",
    "    # Initialize a mask to keep track of visited pixels\n",
    "    visited = np.zeros((height, width), dtype=bool)\n",
    "\n",
    "    # Find the starting pixel for BFS (closest to target_color)\n",
    "    min_distance = float('inf')\n",
    "    start_pixel = None\n",
    "\n",
    "    for y in range(height):\n",
    "        for x in range(width):\n",
    "            current_color = np.array(image[y, x])\n",
    "            distance = np.linalg.norm(current_color - target_color)\n",
    "\n",
    "            if distance < min_distance:\n",
    "                min_distance = distance\n",
    "                start_pixel = (y, x)\n",
    "\n",
    "    if start_pixel is None:\n",
    "        return image, 0\n",
    "\n",
    "    # Define 4-connected neighbors\n",
    "    neighbors = [(0, 1), (0, -1), (1, 0), (-1, 0)]\n",
    "\n",
    "    # Perform BFS\n",
    "    queue.append(start_pixel)\n",
    "    visited[start_pixel[0], start_pixel[1]] = True\n",
    "    visited_count = 1  # Initialize the visited pixel count\n",
    "\n",
    "    while queue:\n",
    "        current_y, current_x = queue.popleft()\n",
    "        current_color = np.array(image[current_y, current_x])\n",
    "\n",
    "        # Check if the current pixel is within the tolerance range\n",
    "        if np.linalg.norm(current_color - target_color) <= tolerance:\n",
    "            image[current_y, current_x] = [random.randint(0, 255), random.randint(0, 255), random.randint(0, 255)]\n",
    "\n",
    "        # Visit neighbors\n",
    "        for dy, dx in neighbors:\n",
    "            y, x = current_y + dy, current_x + dx\n",
    "\n",
    "            if 0 <= y < height and 0 <= x < width and not visited[y, x]:\n",
    "                queue.append((y, x))\n",
    "                visited[y, x] = True\n",
    "                visited_count += 1  # Increment the visited pixel count\n",
    "\n",
    "    return image, visited_count\n"
   ]
  },
  {
   "cell_type": "markdown",
   "id": "359faf1c",
   "metadata": {},
   "source": [
    "# Execution Time and Path Length Analysis"
   ]
  },
  {
   "cell_type": "code",
   "execution_count": 24,
   "id": "4674577b",
   "metadata": {},
   "outputs": [],
   "source": [
    "# Function to get the execution time and visited pixel count of an algorithm\n",
    "def get_execution_time_and_path_length(func, *args):\n",
    "    start_time = time.time()\n",
    "    result_image, visited_count, = func(*args)\n",
    "    end_time = time.time()\n",
    "    return end_time - start_time, visited_count"
   ]
  },
  {
   "cell_type": "code",
   "execution_count": 25,
   "id": "fac96915",
   "metadata": {},
   "outputs": [],
   "source": [
    "# Get the execution time and visited pixel count for each algorithm\n",
    "dfs_time_pa, dfs_visited_count = get_execution_time_and_path_length(color_detection_dfs, image.copy(), selected_color)\n",
    "bfs_time_pa, bfs_visited_count = get_execution_time_and_path_length(color_detection_bfs, image.copy(), selected_color)"
   ]
  },
  {
   "cell_type": "code",
   "execution_count": 26,
   "id": "6681d8c7",
   "metadata": {},
   "outputs": [
    {
     "name": "stdout",
     "output_type": "stream",
     "text": [
      "DFS Visited Pixels: 441000\n",
      "BFS Visited Pixels: 441000\n"
     ]
    }
   ],
   "source": [
    "# Print the visited pixel count for each algorithm\n",
    "print(\"DFS Visited Pixels:\", dfs_visited_count)\n",
    "print(\"BFS Visited Pixels:\", bfs_visited_count)"
   ]
  },
  {
   "cell_type": "code",
   "execution_count": 31,
   "id": "a22d734f",
   "metadata": {},
   "outputs": [
    {
     "data": {
      "image/png": "[encoded data removed]",
      "text/plain": [
       "<Figure size 800x600 with 1 Axes>"
      ]
     },
     "metadata": {},
     "output_type": "display_data"
    }
   ],
   "source": [
    "# Plot the execution path length in a line graph\n",
    "algorithms_pa = ['DFS', 'BFS']\n",
    "execution_pa = [dfs_visited_count, bfs_visited_count]\n",
    "\n",
    "plt.figure(figsize=(8, 6))\n",
    "\n",
    "plt.plot(algorithms_pa, execution_pa, marker='o', linestyle='-', color='g')\n",
    "\n",
    "plt.xlabel('Algorithm')\n",
    "plt.ylabel('Visited Count')\n",
    "plt.title('Color Detection Algorithms')\n",
    "plt.grid(True)\n",
    "plt.show()"
   ]
  },
  {
   "cell_type": "code",
   "execution_count": 32,
   "id": "3ac24475",
   "metadata": {},
   "outputs": [
    {
     "name": "stdout",
     "output_type": "stream",
     "text": [
      "DFS Time: 4.937841176986694\n",
      "BFS Time: 4.600724935531616\n"
     ]
    }
   ],
   "source": [
    "print(\"\\n\")\n",
    "\n",
    "print(\"DFS Time:\", dfs_time_pa)\n",
    "print(\"BFS Time:\", bfs_time_pa)\n",
    "\n",
    "print(\"\\n\")"
   ]
  },
  {
   "cell_type": "code",
   "execution_count": 33,
   "id": "6b635e69",
   "metadata": {},
   "outputs": [
    {
     "data": {
      "image/png": "[encoded data removed]",
      "text/plain": [
       "<Figure size 800x600 with 1 Axes>"
      ]
     },
     "metadata": {},
     "output_type": "display_data"
    }
   ],
   "source": [
    "# Plot the execution path length in a line graph\n",
    "algorithms_pa1 = ['DFS', 'BFS']\n",
    "execution_times_pa1 = [dfs_time_pa, bfs_time_pa]\n",
    "\n",
    "plt.figure(figsize=(8, 6))\n",
    "\n",
    "plt.bar(algorithms_pa1, execution_times_pa1, color='g')\n",
    "\n",
    "plt.xlabel('Algorithm')\n",
    "plt.ylabel('Execution Time (seconds)')\n",
    "plt.title('Execution Time of Color Detection Algorithms')\n",
    "plt.grid(True)\n",
    "plt.show()"
   ]
  },
  {
   "cell_type": "markdown",
   "id": "307f2ae7",
   "metadata": {},
   "source": [
    "# Comparison of Algorithms"
   ]
  },
  {
   "cell_type": "code",
   "execution_count": 34,
   "id": "3fc6b45e",
   "metadata": {},
   "outputs": [
    {
     "data": {
      "image/png": "[encoded data removed]",
      "text/plain": [
       "<Figure size 800x600 with 1 Axes>"
      ]
     },
     "metadata": {},
     "output_type": "display_data"
    }
   ],
   "source": [
    "# Plot the execution times in a line graph\n",
    "algorithms_pa2 = ['DFS', 'BFS']\n",
    "execution_times_pa2 = [dfs_time_pa, bfs_time_pa]\n",
    "\n",
    "plt.figure(figsize=(8, 6))\n",
    "\n",
    "plt.plot(algorithms_pa2, execution_times_pa2, marker='o', linestyle='-', color='b')\n",
    "\n",
    "plt.xlabel('Algorithm')\n",
    "plt.ylabel('Execution Time (seconds)')\n",
    "plt.title('Execution Time of Color Detection Algorithms')\n",
    "plt.grid(True)\n",
    "plt.show()"
   ]
  },
  {
   "cell_type": "code",
   "execution_count": 35,
   "id": "3c889de9",
   "metadata": {},
   "outputs": [
    {
     "data": {
      "image/png": "[encoded data removed]",
      "text/plain": [
       "<Figure size 800x600 with 1 Axes>"
      ]
     },
     "metadata": {},
     "output_type": "display_data"
    }
   ],
   "source": [
    "# Plot the execution of path length in a line graph\n",
    "algorithms_pa3 = ['DFS', 'BFS']\n",
    "execution_pa3 = [dfs_visited_count, bfs_visited_count]\n",
    "\n",
    "plt.figure(figsize=(8, 6))\n",
    "\n",
    "plt.plot(algorithms_pa3, execution_pa3, marker='o', linestyle='-', color='b')\n",
    "\n",
    "plt.xlabel('Algorithm')\n",
    "plt.ylabel('Execution Time (seconds)')\n",
    "plt.title('Execution Time of Color Detection Algorithms')\n",
    "plt.grid(True)\n",
    "plt.show()"
   ]
  }
 ],
 "metadata": {
  "kernelspec": {
   "display_name": "Python 3 (ipykernel)",
   "language": "python",
   "name": "python3"
  },
  "language_info": {
   "codemirror_mode": {
    "name": "ipython",
    "version": 3
   },
   "file_extension": ".py",
   "mimetype": "text/x-python",
   "name": "python",
   "nbconvert_exporter": "python",
   "pygments_lexer": "ipython3",
   "version": "3.9.13"
  }
 },
 "nbformat": 4,
 "nbformat_minor": 5
}
